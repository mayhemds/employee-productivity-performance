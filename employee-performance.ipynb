{
 "cells": [
  {
   "cell_type": "code",
   "execution_count": null,
   "metadata": {},
   "outputs": [
    {
     "name": "stdout",
     "output_type": "stream",
     "text": [
      "  Employee ID Department  Work Hours  Projects Completed  Sick Days  \\\n",
      "0    2ed469ca      Sales          45                   5          2   \n",
      "1    d6706b01    Finance          48                   2          6   \n",
      "2    abb51851    Finance          56                   1          7   \n",
      "3    8c676111         IT          34                   4          3   \n",
      "4    fdd26917         IT          43                   0          2   \n",
      "\n",
      "   Performance Score  \n",
      "0               4.33  \n",
      "1               2.14  \n",
      "2               2.45  \n",
      "3               2.86  \n",
      "4               4.92  \n"
     ]
    }
   ],
   "source": [
    "import pandas as pd\n",
    "import numpy as np\n",
    "import matplotlib.pyplot as plt\n",
    "import seaborn as sns\n",
    "\n",
    "\n",
    "# Importing the dataset\n",
    "df = pd.read_excel(\"../employee-productivity-performance/Dataset/employee_performance.xlsx\")\n",
    "\n",
    "\n",
    "print(df.head(5))"
   ]
  },
  {
   "cell_type": "code",
   "execution_count": null,
   "metadata": {},
   "outputs": [],
   "source": []
  }
 ],
 "metadata": {
  "kernelspec": {
   "display_name": "Python 3",
   "language": "python",
   "name": "python3"
  },
  "language_info": {
   "codemirror_mode": {
    "name": "ipython",
    "version": 3
   },
   "file_extension": ".py",
   "mimetype": "text/x-python",
   "name": "python",
   "nbconvert_exporter": "python",
   "pygments_lexer": "ipython3",
   "version": "3.12.8"
  }
 },
 "nbformat": 4,
 "nbformat_minor": 2
}
